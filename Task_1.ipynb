{
 "cells": [
  {
   "cell_type": "markdown",
   "metadata": {},
   "source": [
    "In this task\n",
    "First I create an array of even integers from 30 to 70\n",
    "Second I generate 15 random numbers from standard normal distribution\n",
    "Third create two matrices for cross product\n",
    "Fourth complete determinants\n",
    "Fifth create a 3x3 and 5x5 matrice with random values and find max and min values of the 5x5 matrice\n",
    "Sixth compute mean, standard deviation and variance. "
   ]
  },
  {
   "cell_type": "code",
   "execution_count": 1,
   "metadata": {},
   "outputs": [
    {
     "name": "stdout",
     "output_type": "stream",
     "text": [
      "Array of even integers from 30 to 70:\n",
      "[30 32 34 36 38 40 42 44 46 48 50 52 54 56 58 60 62 64 66 68 70]\n",
      "Array of 15 random numbers from standard normal distribution:\n",
      "[-0.52365658 -0.80939378  0.93076713 -0.17248073 -0.4813883  -0.70782984\n",
      "  0.91882782  0.35608577  1.00258669 -1.78881969  0.15590042  0.23348807\n",
      " -1.23510515 -2.12044913 -0.63932085]\n",
      "Cross product of matrices:\n",
      "[-4 -4]\n",
      "Determinant of first matrix:\n",
      "-2.0000000000000004\n",
      "3x3 array with random values:\n",
      "[[0.17814787 0.51980746 0.4858947 ]\n",
      " [0.41419004 0.52135334 0.28362113]\n",
      " [0.61877348 0.01270406 0.30561881]]\n",
      "5x5 array with random values:\n",
      "[[0.32972207 0.91509587 0.20136175 0.22614459 0.78335104]\n",
      " [0.68844822 0.98168253 0.57401977 0.25695817 0.1963962 ]\n",
      " [0.63536233 0.18345638 0.62609344 0.67075561 0.82405712]\n",
      " [0.81544006 0.83109897 0.06456837 0.89949085 0.67151055]\n",
      " [0.02879552 0.65423197 0.44589033 0.19829161 0.78337225]]\n",
      "Minimum value in 5x5 array: 0.028795519984244677\n",
      "Maximum value in 5x5 array: 0.9816825341972388\n",
      "Sample array:\n",
      "[[0.43827026 0.93255697 0.23084213]\n",
      " [0.86080935 0.63531944 0.03335875]\n",
      " [0.56940318 0.56704137 0.49091178]\n",
      " [0.05969847 0.63519288 0.46053565]]\n",
      "Mean along second axis: [0.53388979 0.50982918 0.54245211 0.38514233]\n",
      "Standard deviation along second axis: [0.29434475 0.3492654  0.03645727 0.24091709]\n",
      "Variance along second axis: [0.08663883 0.12198632 0.00132913 0.05804104]\n"
     ]
    },
    {
     "name": "stderr",
     "output_type": "stream",
     "text": [
      "/tmp/ipykernel_21021/1703662325.py:20: DeprecationWarning: Arrays of 2-dimensional vectors are deprecated. Use arrays of 3-dimensional vectors instead. (deprecated in NumPy 2.0)\n",
      "  cross_product = np.cross(matrix1, matrix2)\n"
     ]
    }
   ],
   "source": [
    "#First, let's create an array of even integers from 30 to 70:\n",
    "import numpy as np\n",
    "\n",
    "# Create array of even integers from 30 to 70\n",
    "even_array = np.arange(30, 71, 2)\n",
    "print(\"Array of even integers from 30 to 70:\")\n",
    "print(even_array)\n",
    "\n",
    "# Generate 15 random numbers from standard normal distribution\n",
    "normal_array = np.random.standard_normal(15)\n",
    "print(\"\\\n",
    "Array of 15 random numbers from standard normal distribution:\")\n",
    "print(normal_array)\n",
    "\n",
    "# Create two matrices for cross product\n",
    "matrix1 = np.array([[1, 2], [3, 4]])\n",
    "matrix2 = np.array([[5, 6], [7, 8]])\n",
    "\n",
    "# Compute cross product\n",
    "cross_product = np.cross(matrix1, matrix2)\n",
    "print(\"\\\n",
    "Cross product of matrices:\")\n",
    "print(cross_product)\n",
    "\n",
    "# Compute determinant of matrix1\n",
    "det = np.linalg.det(matrix1)\n",
    "print(\"\\\n",
    "Determinant of first matrix:\")\n",
    "print(det)\n",
    "\n",
    "# Create a 3x3 array with random values\n",
    "random_3x3 = np.random.rand(3, 3)\n",
    "print(\"\\\n",
    "3x3 array with random values:\")\n",
    "print(random_3x3)\n",
    "\n",
    "# Create a 5x5 array with random values\n",
    "random_5x5 = np.random.rand(5, 5)\n",
    "\n",
    "# Find the minimum and maximum values in the 5x5 array\n",
    "min_value = np.min(random_5x5)\n",
    "max_value = np.max(random_5x5)\n",
    "print(\"\\\n",
    "5x5 array with random values:\")\n",
    "print(random_5x5)\n",
    "print(\"\\\n",
    "Minimum value in 5x5 array:\", min_value)\n",
    "print(\"Maximum value in 5x5 array:\", max_value)\n",
    "\n",
    "\n",
    "# Create a sample array\n",
    "sample_array = np.random.rand(4, 3)\n",
    "\n",
    "# Compute mean, standard deviation, and variance along second axis\n",
    "mean = np.mean(sample_array, axis=1)\n",
    "std = np.std(sample_array, axis=1)\n",
    "var = np.var(sample_array, axis=1)\n",
    "\n",
    "print(\"\\\n",
    "Sample array:\")\n",
    "print(sample_array)\n",
    "print(\"\\\n",
    "Mean along second axis:\", mean)\n",
    "print(\"Standard deviation along second axis:\", std)\n",
    "print(\"Variance along second axis:\", var)\n"
   ]
  }
 ],
 "metadata": {
  "kernelspec": {
   "display_name": "Python 3",
   "language": "python",
   "name": "python3"
  },
  "language_info": {
   "codemirror_mode": {
    "name": "ipython",
    "version": 3
   },
   "file_extension": ".py",
   "mimetype": "text/x-python",
   "name": "python",
   "nbconvert_exporter": "python",
   "pygments_lexer": "ipython3",
   "version": "3.12.1"
  }
 },
 "nbformat": 4,
 "nbformat_minor": 2
}
