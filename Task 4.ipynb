{
 "cells": [
  {
   "cell_type": "markdown",
   "metadata": {},
   "source": [
    "Task 4 AICP EDA Internship"
   ]
  },
  {
   "cell_type": "code",
   "execution_count": 1,
   "metadata": {},
   "outputs": [
    {
     "ename": "NameError",
     "evalue": "name 'df' is not defined",
     "output_type": "error",
     "traceback": [
      "\u001b[0;31m---------------------------------------------------------------------------\u001b[0m",
      "\u001b[0;31mNameError\u001b[0m                                 Traceback (most recent call last)",
      "Cell \u001b[0;32mIn[1], line 8\u001b[0m\n\u001b[1;32m      6\u001b[0m \u001b[38;5;66;03m# Question 1: Create a scatter plot of Total Fat vs Calories\u001b[39;00m\n\u001b[1;32m      7\u001b[0m plt\u001b[38;5;241m.\u001b[39mfigure(figsize\u001b[38;5;241m=\u001b[39m(\u001b[38;5;241m10\u001b[39m, \u001b[38;5;241m6\u001b[39m))\n\u001b[0;32m----> 8\u001b[0m sns\u001b[38;5;241m.\u001b[39mscatterplot(data\u001b[38;5;241m=\u001b[39m\u001b[43mdf\u001b[49m, x\u001b[38;5;241m=\u001b[39m\u001b[38;5;124m'\u001b[39m\u001b[38;5;124mTotal Fat\u001b[39m\u001b[38;5;124m'\u001b[39m, y\u001b[38;5;241m=\u001b[39m\u001b[38;5;124m'\u001b[39m\u001b[38;5;124mCalories\u001b[39m\u001b[38;5;124m'\u001b[39m, hue\u001b[38;5;241m=\u001b[39m\u001b[38;5;124m'\u001b[39m\u001b[38;5;124mCategory\u001b[39m\u001b[38;5;124m'\u001b[39m)\n\u001b[1;32m      9\u001b[0m plt\u001b[38;5;241m.\u001b[39mtitle(\u001b[38;5;124m'\u001b[39m\u001b[38;5;124mTotal Fat vs Calories\u001b[39m\u001b[38;5;124m'\u001b[39m)\n\u001b[1;32m     10\u001b[0m plt\u001b[38;5;241m.\u001b[39mlegend(bbox_to_anchor\u001b[38;5;241m=\u001b[39m(\u001b[38;5;241m1.05\u001b[39m, \u001b[38;5;241m1\u001b[39m), loc\u001b[38;5;241m=\u001b[39m\u001b[38;5;124m'\u001b[39m\u001b[38;5;124mupper left\u001b[39m\u001b[38;5;124m'\u001b[39m)\n",
      "\u001b[0;31mNameError\u001b[0m: name 'df' is not defined"
     ]
    },
    {
     "data": {
      "text/plain": [
       "<Figure size 1000x600 with 0 Axes>"
      ]
     },
     "metadata": {},
     "output_type": "display_data"
    }
   ],
   "source": [
    "import pandas as pd\n",
    "import numpy as np\n",
    "import seaborn as sns\n",
    "import matplotlib.pyplot as plt\n",
    "\n",
    "df = pd.read_csv('menu.csv')\n",
    "print(df.head())\n",
    "\n",
    "# Question 1: Create a scatter plot of Total Fat vs Calories\n",
    "plt.figure(figsize=(10, 6))\n",
    "sns.scatterplot(data=df, x='Total Fat', y='Calories', hue='Category')\n",
    "plt.title('Total Fat vs Calories')\n",
    "plt.legend(bbox_to_anchor=(1.05, 1), loc='upper left')\n",
    "plt.tight_layout()\n",
    "plt.show()\n",
    "\n",
    "# Question 2: Create a correlation matrix heatmap\n",
    "nutritional_cols = ['Calories', 'Total Fat', 'Saturated Fat', 'Cholesterol', \n",
    "                   'Sodium', 'Carbohydrates', 'Sugars', 'Protein']\n",
    "correlation_matrix = df[nutritional_cols].corr()\n",
    "\n",
    "plt.figure(figsize=(10, 8))\n",
    "sns.heatmap(correlation_matrix, annot=True, cmap='coolwarm', center=0)\n",
    "plt.title('Correlation Matrix of Nutritional Values')\n",
    "plt.tight_layout()\n",
    "plt.show()\n",
    "\n",
    "# Question 3: Calculate summary statistics\n",
    "summary_stats = df[nutritional_cols].describe()\n",
    "print(\"\\\n",
    "Summary Statistics:\")\n",
    "print(summary_stats)\n",
    "\n",
    "plt.figure(figsize=(12, 6))\n",
    "sns.boxplot(data=df, x='Category', y='Calories')\n",
    "plt.xticks(rotation=45)\n",
    "plt.title('Calories Distribution by Category')\n",
    "plt.tight_layout()\n",
    "plt.show()\n",
    "\n",
    "fig, axes = plt.subplots(2, 2, figsize=(15, 12))\n",
    "plt.suptitle('Distribution of Nutritional Values by Category')\n",
    "\n",
    "# Create stripplots for different nutritional attributes\n",
    "sns.stripplot(data=df, x='Category', y='Total Fat', ax=axes[0,0])\n",
    "axes[0,0].set_xticklabels(axes[0,0].get_xticklabels(), rotation=45)\n",
    "axes[0,0].set_title('Total Fat Distribution')\n",
    "\n",
    "sns.stripplot(data=df, x='Category', y='Protein', ax=axes[0,1])\n",
    "axes[0,1].set_xticklabels(axes[0,1].get_xticklabels(), rotation=45)\n",
    "axes[0,1].set_title('Protein Distribution')\n",
    "\n",
    "sns.stripplot(data=df, x='Category', y='Sugars', ax=axes[1,0])\n",
    "axes[1,0].set_xticklabels(axes[1,0].get_xticklabels(), rotation=45)\n",
    "axes[1,0].set_title('Sugars Distribution')\n",
    "\n",
    "sns.stripplot(data=df, x='Category', y='Sodium', ax=axes[1,1])\n",
    "axes[1,1].set_xticklabels(axes[1,1].get_xticklabels(), rotation=45)\n",
    "axes[1,1].set_title('Sodium Distribution')\n",
    "\n",
    "plt.tight_layout()\n",
    "plt.show()\n",
    "\n",
    "# Calculate mean calories per item in each category\n",
    "avg_calories = df.groupby('Category')['Calories'].mean().sort_values()\n",
    "\n",
    "plt.figure(figsize=(12, 8))\n",
    "avg_calories.plot(kind='barh')\n",
    "plt.title('Average Calories by Category')\n",
    "plt.xlabel('Average Calories')\n",
    "plt.tight_layout()\n",
    "plt.show()\n",
    "\n",
    "# Now let's tackle Q5 - items with highest nutritional values\n",
    "nutritional_cols = ['Calories', 'Total Fat', 'Saturated Fat', 'Cholesterol', \n",
    "                   'Sodium', 'Carbohydrates', 'Sugars', 'Protein']\n",
    "\n",
    "highest_items = {}\n",
    "for col in nutritional_cols:\n",
    "    highest_items[col] = df.nlargest(1, col)[['Item', col]]\n",
    "\n",
    "print(\"\\\n",
    "Items with highest nutritional values:\")\n",
    "for nutrient, item_data in highest_items.items():\n",
    "    print(f\"\\\n",
    "Highest {nutrient}:\")\n",
    "    print(item_data.to_string(index=False))"
   ]
  }
 ],
 "metadata": {
  "kernelspec": {
   "display_name": "Python 3",
   "language": "python",
   "name": "python3"
  },
  "language_info": {
   "codemirror_mode": {
    "name": "ipython",
    "version": 3
   },
   "file_extension": ".py",
   "mimetype": "text/x-python",
   "name": "python",
   "nbconvert_exporter": "python",
   "pygments_lexer": "ipython3",
   "version": "3.12.1"
  }
 },
 "nbformat": 4,
 "nbformat_minor": 2
}
